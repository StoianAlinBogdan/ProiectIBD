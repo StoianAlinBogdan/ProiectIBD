{
 "cells": [
  {
   "cell_type": "code",
   "execution_count": 1,
   "id": "aa5b8063-42d7-4c10-b2c2-9b30ac6c135c",
   "metadata": {},
   "outputs": [],
   "source": [
    "from pyspark.sql import SparkSession"
   ]
  },
  {
   "cell_type": "code",
   "execution_count": 2,
   "id": "c20bbd23-7f22-4f5a-8dbf-07fe6c8ef6ad",
   "metadata": {},
   "outputs": [],
   "source": [
    "spark = SparkSession.builder.appName('ProiectIBD').getOrCreate()"
   ]
  },
  {
   "cell_type": "code",
   "execution_count": 6,
   "id": "32794757-1696-491b-b491-f5b561a2867a",
   "metadata": {},
   "outputs": [
    {
     "name": "stdout",
     "output_type": "stream",
     "text": [
      "+----------+-----------+-----+--------------------+-----+---------------+----------+----------+-----------+---------------+-----------------+---------+--------+--------------+----------+----------+------------------+-------------------+--------------------+\n",
      "|ARREST_KEY|ARREST_DATE|PD_CD|             PD_DESC|KY_CD|      OFNS_DESC|  LAW_CODE|LAW_CAT_CD|ARREST_BORO|ARREST_PRECINCT|JURISDICTION_CODE|AGE_GROUP|PERP_SEX|     PERP_RACE|X_COORD_CD|Y_COORD_CD|          Latitude|          Longitude|             Lon_Lat|\n",
      "+----------+-----------+-----+--------------------+-----+---------------+----------+----------+-----------+---------------+-----------------+---------+--------+--------------+----------+----------+------------------+-------------------+--------------------+\n",
      "| 236791704| 11/22/2021|  581|                NULL| NULL|           NULL|PL 2225001|         M|          M|             28|                0|    45-64|       M|         BLACK|    997427|    230378|40.799008797000056| -73.95240854099995|POINT (-73.952408...|\n",
      "| 237354740| 12/04/2021|  153|              RAPE 3|  104|           RAPE|PL 1302502|         F|          B|             41|                0|    25-44|       M|WHITE HISPANIC|   1013232|    236725|40.816391847000034| -73.89529641399997|POINT (-73.895296...|\n",
      "| 236081433| 11/09/2021|  681|CHILD, ENDANGERIN...|  233|     SEX CRIMES|PL 2601001|         M|          Q|            113|                0|    25-44|       M|         BLACK|   1046367|    186986| 40.67970040800003| -73.77604736799998|POINT (-73.776047...|\n",
      "|  32311380| 06/18/2007|  511|CONTROLLED SUBSTA...|  235|DANGEROUS DRUGS|PL 2200300|         M|          Q|             27|                1|    18-24|       M|         BLACK|      NULL|      NULL|              NULL|               NULL|                NULL|\n",
      "| 192799737| 01/26/2019|  177|        SEXUAL ABUSE|  116|     SEX CRIMES|PL 1306503|         F|          M|             25|                0|    45-64|       M|         BLACK|   1000555|    230994|40.800694331000045|-73.941109285999971|POINT (-73.941109...|\n",
      "+----------+-----------+-----+--------------------+-----+---------------+----------+----------+-----------+---------------+-----------------+---------+--------+--------------+----------+----------+------------------+-------------------+--------------------+\n",
      "only showing top 5 rows\n",
      "\n"
     ]
    }
   ],
   "source": [
    "df = spark.read.option(\"header\", \"True\").csv(\"./dataset.csv\")\n",
    "df.show(5)"
   ]
  }
 ],
 "metadata": {
  "kernelspec": {
   "display_name": "Python 3 (ipykernel)",
   "language": "python",
   "name": "python3"
  },
  "language_info": {
   "codemirror_mode": {
    "name": "ipython",
    "version": 3
   },
   "file_extension": ".py",
   "mimetype": "text/x-python",
   "name": "python",
   "nbconvert_exporter": "python",
   "pygments_lexer": "ipython3",
   "version": "3.11.6"
  }
 },
 "nbformat": 4,
 "nbformat_minor": 5
}
