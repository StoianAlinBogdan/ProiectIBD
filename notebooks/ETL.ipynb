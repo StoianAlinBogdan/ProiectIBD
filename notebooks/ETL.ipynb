{
 "cells": [
  {
   "cell_type": "code",
   "execution_count": 1,
   "id": "2dee732a-51a7-45da-901a-8f5d3968ae6a",
   "metadata": {},
   "outputs": [
    {
     "name": "stdout",
     "output_type": "stream",
     "text": [
      "Collecting kafka-python\n",
      "  Downloading kafka_python-2.0.2-py2.py3-none-any.whl (246 kB)\n",
      "\u001b[2K     \u001b[90m━━━━━━━━━━━━━━━━━━━━━━━━━━━━━━━━━━━━━━━\u001b[0m \u001b[32m246.5/246.5 kB\u001b[0m \u001b[31m2.2 MB/s\u001b[0m eta \u001b[36m0:00:00\u001b[0m00:01\u001b[0m00:01\u001b[0m\n",
      "\u001b[?25hInstalling collected packages: kafka-python\n",
      "Successfully installed kafka-python-2.0.2\n"
     ]
    }
   ],
   "source": [
    "!pip install kafka-python"
   ]
  },
  {
   "cell_type": "code",
   "execution_count": 18,
   "id": "353843b7-0b09-46f8-b310-2e2a2c091ef2",
   "metadata": {},
   "outputs": [],
   "source": [
    "from kafka import KafkaProducer\n",
    "import csv\n",
    "import json\n",
    "\n",
    "producer = KafkaProducer(bootstrap_servers=\"localhost:9092\", value_serializer=lambda v: json.dumps(v).encode('utf-8'))\n",
    "i = 0\n",
    "with open(\"./dataset.csv\") as f:\n",
    "    reader = csv.DictReader(f)\n",
    "    for row in reader:\n",
    "        i = i + 1\n",
    "        producer.send(topic=\"mytopic\", value=row)\n",
    "        producer.flush()\n",
    "        if i == 10:\n",
    "            break"
   ]
  },
  {
   "cell_type": "code",
   "execution_count": 19,
   "id": "5e8a1c0a-b17d-41fb-acbb-c47775650a00",
   "metadata": {},
   "outputs": [],
   "source": [
    "from kafka import KafkaConsumer\n",
    "\n",
    "consumer = KafkaConsumer(\"mytopic\", bootstrap_servers=\"localhost:9092\", auto_offset_reset='earliest', consumer_timeout_ms=10000)\n",
    "data = []\n",
    "for message in consumer:\n",
    "    data.append(json.loads(message.value))\n",
    "consumer.close()\n",
    "\n",
    "with open(\"output_dataset.json\", \"w+\") as final:\n",
    "    json.dump(data, final)"
   ]
  },
  {
   "cell_type": "code",
   "execution_count": 1,
   "id": "aa5b8063-42d7-4c10-b2c2-9b30ac6c135c",
   "metadata": {},
   "outputs": [],
   "source": [
    "from pyspark.sql import SparkSession\n",
    "spark = SparkSession.builder.appName('ProiectIBD').getOrCreate()"
   ]
  },
  {
   "cell_type": "code",
   "execution_count": 2,
   "id": "c20bbd23-7f22-4f5a-8dbf-07fe6c8ef6ad",
   "metadata": {},
   "outputs": [],
   "source": []
  },
  {
   "cell_type": "code",
   "execution_count": 6,
   "id": "32794757-1696-491b-b491-f5b561a2867a",
   "metadata": {},
   "outputs": [
    {
     "name": "stdout",
     "output_type": "stream",
     "text": [
      "+----------+-----------+-----+--------------------+-----+---------------+----------+----------+-----------+---------------+-----------------+---------+--------+--------------+----------+----------+------------------+-------------------+--------------------+\n",
      "|ARREST_KEY|ARREST_DATE|PD_CD|             PD_DESC|KY_CD|      OFNS_DESC|  LAW_CODE|LAW_CAT_CD|ARREST_BORO|ARREST_PRECINCT|JURISDICTION_CODE|AGE_GROUP|PERP_SEX|     PERP_RACE|X_COORD_CD|Y_COORD_CD|          Latitude|          Longitude|             Lon_Lat|\n",
      "+----------+-----------+-----+--------------------+-----+---------------+----------+----------+-----------+---------------+-----------------+---------+--------+--------------+----------+----------+------------------+-------------------+--------------------+\n",
      "| 236791704| 11/22/2021|  581|                NULL| NULL|           NULL|PL 2225001|         M|          M|             28|                0|    45-64|       M|         BLACK|    997427|    230378|40.799008797000056| -73.95240854099995|POINT (-73.952408...|\n",
      "| 237354740| 12/04/2021|  153|              RAPE 3|  104|           RAPE|PL 1302502|         F|          B|             41|                0|    25-44|       M|WHITE HISPANIC|   1013232|    236725|40.816391847000034| -73.89529641399997|POINT (-73.895296...|\n",
      "| 236081433| 11/09/2021|  681|CHILD, ENDANGERIN...|  233|     SEX CRIMES|PL 2601001|         M|          Q|            113|                0|    25-44|       M|         BLACK|   1046367|    186986| 40.67970040800003| -73.77604736799998|POINT (-73.776047...|\n",
      "|  32311380| 06/18/2007|  511|CONTROLLED SUBSTA...|  235|DANGEROUS DRUGS|PL 2200300|         M|          Q|             27|                1|    18-24|       M|         BLACK|      NULL|      NULL|              NULL|               NULL|                NULL|\n",
      "| 192799737| 01/26/2019|  177|        SEXUAL ABUSE|  116|     SEX CRIMES|PL 1306503|         F|          M|             25|                0|    45-64|       M|         BLACK|   1000555|    230994|40.800694331000045|-73.941109285999971|POINT (-73.941109...|\n",
      "+----------+-----------+-----+--------------------+-----+---------------+----------+----------+-----------+---------------+-----------------+---------+--------+--------------+----------+----------+------------------+-------------------+--------------------+\n",
      "only showing top 5 rows\n",
      "\n"
     ]
    }
   ],
   "source": [
    "df = spark.read.option(\"header\", \"True\").csv(\"./dataset.csv\")\n",
    "df.show(5)"
   ]
  }
 ],
 "metadata": {
  "kernelspec": {
   "display_name": "Python 3 (ipykernel)",
   "language": "python",
   "name": "python3"
  },
  "language_info": {
   "codemirror_mode": {
    "name": "ipython",
    "version": 3
   },
   "file_extension": ".py",
   "mimetype": "text/x-python",
   "name": "python",
   "nbconvert_exporter": "python",
   "pygments_lexer": "ipython3",
   "version": "3.11.6"
  }
 },
 "nbformat": 4,
 "nbformat_minor": 5
}
