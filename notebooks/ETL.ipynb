{
 "cells": [
  {
   "cell_type": "code",
   "execution_count": 2,
   "id": "2dee732a-51a7-45da-901a-8f5d3968ae6a",
   "metadata": {},
   "outputs": [
    {
     "name": "stdout",
     "output_type": "stream",
     "text": [
      "Requirement already satisfied: kafka-python in /opt/conda/lib/python3.11/site-packages (2.0.2)\n"
     ]
    }
   ],
   "source": [
    "!pip install kafka-python"
   ]
  },
  {
   "cell_type": "markdown",
   "id": "a071a2fe-15ea-45c9-a5b9-1cdaf30a77c9",
   "metadata": {},
   "source": [
    "# Kafka producer & Consumer \n",
    "The Kafka Producer in the cell below ingests the input csv file and serializes it into json format, writing it to the topic \"mytopic\" in kafka.\n",
    "We will only read a few lines from the input csv for demonstration purposes.\n",
    "The Kafka Consumer then reads the topic \"mytopic\" and outputs a json format version of the input dataset."
   ]
  },
  {
   "cell_type": "code",
   "execution_count": 3,
   "id": "353843b7-0b09-46f8-b310-2e2a2c091ef2",
   "metadata": {},
   "outputs": [],
   "source": [
    "from kafka import KafkaProducer\n",
    "import csv\n",
    "import json\n",
    "\n",
    "producer = KafkaProducer(bootstrap_servers=\"localhost:9092\", value_serializer=lambda v: json.dumps(v).encode('utf-8'))\n",
    "i = 0 # We will be reading only about 10 rows for demonstration of the pipeline.\n",
    "with open(\"./dataset.csv\") as f:\n",
    "    reader = csv.DictReader(f)\n",
    "    for row in reader:\n",
    "        i = i + 1\n",
    "        producer.send(topic=\"mytopic\", value=row)\n",
    "        producer.flush()\n",
    "        if i == 10:\n",
    "            break"
   ]
  },
  {
   "cell_type": "code",
   "execution_count": 4,
   "id": "5e8a1c0a-b17d-41fb-acbb-c47775650a00",
   "metadata": {},
   "outputs": [],
   "source": [
    "from kafka import KafkaConsumer\n",
    "\n",
    "consumer = KafkaConsumer(\"mytopic\", bootstrap_servers=\"localhost:9092\", auto_offset_reset='earliest', consumer_timeout_ms=10000) # Timeout is needed for the consumer to not execute endlessly.\n",
    "data = []\n",
    "for message in consumer:\n",
    "    data.append(json.loads(message.value))\n",
    "consumer.close()\n",
    "\n",
    "with open(\"output_dataset.json\", \"w+\") as final:\n",
    "    json.dump(data, final)"
   ]
  },
  {
   "cell_type": "markdown",
   "id": "32ed37a6-0116-4fc6-aec2-73ec08f730e3",
   "metadata": {},
   "source": [
    "# Pyspark ETL\n",
    "We will load the Kafka consumer output dataset, perform various transformations to partially normalize data to be compatible with a star schema data warehouse, and then load into a mysql instance running locally."
   ]
  },
  {
   "cell_type": "code",
   "execution_count": 5,
   "id": "aa5b8063-42d7-4c10-b2c2-9b30ac6c135c",
   "metadata": {},
   "outputs": [],
   "source": [
    "from pyspark.sql import SparkSession\n",
    "spark = SparkSession.builder.appName('ProiectIBD').config(\"spark.jars.packages\", \"mysql:mysql-connector-java:8.0.33\").getOrCreate() # We inject the mysql connector dependency dynamically from Maven."
   ]
  },
  {
   "cell_type": "code",
   "execution_count": 2,
   "id": "c20bbd23-7f22-4f5a-8dbf-07fe6c8ef6ad",
   "metadata": {},
   "outputs": [],
   "source": []
  },
  {
   "cell_type": "code",
   "execution_count": 6,
   "id": "32794757-1696-491b-b491-f5b561a2867a",
   "metadata": {},
   "outputs": [
    {
     "name": "stdout",
     "output_type": "stream",
     "text": [
      "+---------+-----------+-----------+----------+---------------+-----------------+-----+----------+----------+------------------+--------------------+-------------------+---------------+-----+--------------------+--------------+--------+----------+----------+\n",
      "|AGE_GROUP|ARREST_BORO|ARREST_DATE|ARREST_KEY|ARREST_PRECINCT|JURISDICTION_CODE|KY_CD|LAW_CAT_CD|  LAW_CODE|          Latitude|             Lon_Lat|          Longitude|      OFNS_DESC|PD_CD|             PD_DESC|     PERP_RACE|PERP_SEX|X_COORD_CD|Y_COORD_CD|\n",
      "+---------+-----------+-----------+----------+---------------+-----------------+-----+----------+----------+------------------+--------------------+-------------------+---------------+-----+--------------------+--------------+--------+----------+----------+\n",
      "|    45-64|          M| 11/22/2021| 236791704|             28|                0|     |         M|PL 2225001|40.799008797000056|POINT (-73.952408...| -73.95240854099995|               |  581|                    |         BLACK|       M|    997427|    230378|\n",
      "|    25-44|          B| 12/04/2021| 237354740|             41|                0|  104|         F|PL 1302502|40.816391847000034|POINT (-73.895296...| -73.89529641399997|           RAPE|  153|              RAPE 3|WHITE HISPANIC|       M|   1013232|    236725|\n",
      "|    25-44|          Q| 11/09/2021| 236081433|            113|                0|  233|         M|PL 2601001| 40.67970040800003|POINT (-73.776047...| -73.77604736799998|     SEX CRIMES|  681|CHILD, ENDANGERIN...|         BLACK|       M|   1046367|    186986|\n",
      "|    18-24|          Q| 06/18/2007|  32311380|             27|                1|  235|         M|PL 2200300|                  |                    |                   |DANGEROUS DRUGS|  511|CONTROLLED SUBSTA...|         BLACK|       M|          |          |\n",
      "|    45-64|          M| 01/26/2019| 192799737|             25|                0|  116|         F|PL 1306503|40.800694331000045|POINT (-73.941109...|-73.941109285999971|     SEX CRIMES|  177|        SEXUAL ABUSE|         BLACK|       M|   1000555|    230994|\n",
      "+---------+-----------+-----------+----------+---------------+-----------------+-----+----------+----------+------------------+--------------------+-------------------+---------------+-----+--------------------+--------------+--------+----------+----------+\n",
      "only showing top 5 rows\n",
      "\n",
      "root\n",
      " |-- AGE_GROUP: string (nullable = true)\n",
      " |-- ARREST_BORO: string (nullable = true)\n",
      " |-- ARREST_DATE: string (nullable = true)\n",
      " |-- ARREST_KEY: string (nullable = true)\n",
      " |-- ARREST_PRECINCT: string (nullable = true)\n",
      " |-- JURISDICTION_CODE: string (nullable = true)\n",
      " |-- KY_CD: string (nullable = true)\n",
      " |-- LAW_CAT_CD: string (nullable = true)\n",
      " |-- LAW_CODE: string (nullable = true)\n",
      " |-- Latitude: string (nullable = true)\n",
      " |-- Lon_Lat: string (nullable = true)\n",
      " |-- Longitude: string (nullable = true)\n",
      " |-- OFNS_DESC: string (nullable = true)\n",
      " |-- PD_CD: string (nullable = true)\n",
      " |-- PD_DESC: string (nullable = true)\n",
      " |-- PERP_RACE: string (nullable = true)\n",
      " |-- PERP_SEX: string (nullable = true)\n",
      " |-- X_COORD_CD: string (nullable = true)\n",
      " |-- Y_COORD_CD: string (nullable = true)\n",
      "\n"
     ]
    }
   ],
   "source": [
    "df = spark.read.json(\"output_dataset.json\")\n",
    "df.show(5)\n",
    "df.printSchema()"
   ]
  },
  {
   "cell_type": "markdown",
   "id": "c9bf6f20-6f86-475e-aace-80f2405cf627",
   "metadata": {},
   "source": [
    "## We'll first generate all 6 dimension tables, and finally the one fact table by joining the input dataframe with the generated dimension tables to determine their codes."
   ]
  },
  {
   "cell_type": "code",
   "execution_count": 12,
   "id": "73011daf-1906-4945-bf7e-0a458d70348e",
   "metadata": {},
   "outputs": [
    {
     "name": "stdout",
     "output_type": "stream",
     "text": [
      "+-----+--------------------+-----+\n",
      "|PD_CD|             PD_DESC|pd_id|\n",
      "+-----+--------------------+-----+\n",
      "|  729|FORGERY,ETC.,UNCL...|    0|\n",
      "|     |                    |    1|\n",
      "|  263|         ARSON 2,3,4|    2|\n",
      "|  579|                    |    3|\n",
      "|  581|                    |    4|\n",
      "|  177|        SEXUAL ABUSE|    5|\n",
      "|  153|              RAPE 3|    6|\n",
      "|  681|CHILD, ENDANGERIN...|    7|\n",
      "|  511|CONTROLLED SUBSTA...|    8|\n",
      "+-----+--------------------+-----+\n",
      "\n"
     ]
    }
   ],
   "source": [
    "import pyspark.sql.functions as F\n",
    "\n",
    "df_pd = df.select(F.col(\"PD_CD\"), F.col(\"PD_DESC\")).distinct()\n",
    "df_pd = df_pd.withColumn(\"pd_id\", F.monotonically_increasing_id())\n",
    "df_pd.show()"
   ]
  },
  {
   "cell_type": "code",
   "execution_count": 13,
   "id": "7d605377-8b38-4732-9aa6-6a74cec65872",
   "metadata": {},
   "outputs": [
    {
     "name": "stdout",
     "output_type": "stream",
     "text": [
      "+-----+-----+\n",
      "|KY_CD|ky_id|\n",
      "+-----+-----+\n",
      "|  113|    0|\n",
      "|  104|    1|\n",
      "|  233|    2|\n",
      "|  114|    3|\n",
      "|  116|    4|\n",
      "|  235|    5|\n",
      "|     |    6|\n",
      "+-----+-----+\n",
      "\n"
     ]
    }
   ],
   "source": [
    "df_ky = df.select(F.col(\"KY_CD\")).distinct()\n",
    "df_ky = df_ky.withColumn(\"ky_id\", F.monotonically_increasing_id())\n",
    "df_ky.show()"
   ]
  },
  {
   "cell_type": "code",
   "execution_count": 15,
   "id": "39e4e4cf-de29-4abb-96e1-22eeff89f21d",
   "metadata": {},
   "outputs": [
    {
     "name": "stdout",
     "output_type": "stream",
     "text": [
      "+----------+--------+------+\n",
      "|  LAW_CODE|category|law_id|\n",
      "+----------+--------+------+\n",
      "|PL 2601001|       M|     0|\n",
      "|PL 2225001|       M|     1|\n",
      "|PL 1302502|       F|     2|\n",
      "|PL 2203400|       F|     3|\n",
      "|PL 2200300|       M|     4|\n",
      "|PL 2224001|       F|     5|\n",
      "|PL 1306503|       F|     6|\n",
      "|PL 1302503|       F|     7|\n",
      "|PL 1702500|       F|     8|\n",
      "|PL 1501001|       F|     9|\n",
      "+----------+--------+------+\n",
      "\n"
     ]
    }
   ],
   "source": [
    "df_law = df.select(F.col(\"LAW_CODE\"), F.col(\"LAW_CAT_CD\").alias(\"category\")).distinct()\n",
    "df_law = df_law.withColumn(\"law_id\", F.monotonically_increasing_id())\n",
    "df_law.show()"
   ]
  },
  {
   "cell_type": "code",
   "execution_count": 17,
   "id": "e2a39b9f-a97d-4ade-9003-b4dc0568e834",
   "metadata": {},
   "outputs": [
    {
     "name": "stdout",
     "output_type": "stream",
     "text": [
      "+---------------+-----------+-----------+\n",
      "|ARREST_PRECINCT|ARREST_BORO|location_id|\n",
      "+---------------+-----------+-----------+\n",
      "|             67|          K|          0|\n",
      "|             28|          M|          1|\n",
      "|             41|          B|          2|\n",
      "|            113|          Q|          3|\n",
      "|            115|          Q|          4|\n",
      "|             25|          M|          5|\n",
      "|             14|          M|          6|\n",
      "|             27|          Q|          7|\n",
      "+---------------+-----------+-----------+\n",
      "\n"
     ]
    }
   ],
   "source": [
    "df_location_info = df.select(F.col(\"ARREST_PRECINCT\"), F.col(\"ARREST_BORO\")).distinct()\n",
    "df_location_info = df_location_info.withColumn(\"location_id\", F.monotonically_increasing_id())\n",
    "df_location_info.show()"
   ]
  },
  {
   "cell_type": "code",
   "execution_count": 18,
   "id": "9b86350b-1636-451e-9630-743ab0583829",
   "metadata": {},
   "outputs": [
    {
     "name": "stdout",
     "output_type": "stream",
     "text": [
      "+-------------------+------------------+------+\n",
      "|          Longitude|          Latitude|gps_id|\n",
      "+-------------------+------------------+------+\n",
      "| -73.95240854099995|40.799008797000056|     0|\n",
      "|                   |                  |     1|\n",
      "| -73.87622400099998| 40.77205649600006|     2|\n",
      "| -73.87833183299993|40.804012949000025|     3|\n",
      "|-73.941109285999971|40.800694331000045|     4|\n",
      "| -73.77919852099996| 40.69166001700007|     5|\n",
      "| -73.77604736799998| 40.67970040800003|     6|\n",
      "|-73.991212110999982|40.757839003000072|     7|\n",
      "| -73.95033556299995|40.648650085000035|     8|\n",
      "| -73.89529641399997|40.816391847000034|     9|\n",
      "+-------------------+------------------+------+\n",
      "\n"
     ]
    }
   ],
   "source": [
    "df_gps = df.select(F.col(\"Longitude\"), F.col(\"Latitude\")).distinct()\n",
    "df_gps = df_gps.withColumn(\"gps_id\", F.monotonically_increasing_id())\n",
    "df_gps.show()"
   ]
  },
  {
   "cell_type": "code",
   "execution_count": 19,
   "id": "9041e51b-6531-41d8-88f0-cb3a2e2fedef",
   "metadata": {},
   "outputs": [
    {
     "name": "stdout",
     "output_type": "stream",
     "text": [
      "+----------+----------+------+\n",
      "|X_COORD_CD|Y_COORD_CD|map_id|\n",
      "+----------+----------+------+\n",
      "|    997427|    230378|     0|\n",
      "|          |          |     1|\n",
      "|   1017934|    232221|     2|\n",
      "|   1000555|    230994|     3|\n",
      "|    986685|    215375|     4|\n",
      "|   1046367|    186986|     5|\n",
      "|   1013232|    236725|     6|\n",
      "|   1018534|    220579|     7|\n",
      "|   1045482|    191341|     8|\n",
      "|  998032.0|  175598.0|     9|\n",
      "+----------+----------+------+\n",
      "\n"
     ]
    }
   ],
   "source": [
    "df_map = df.select(F.col(\"X_COORD_CD\"), F.col(\"Y_COORD_CD\")).distinct()\n",
    "df_map = df_map.withColumn(\"map_id\", F.monotonically_increasing_id())\n",
    "df_map.show()"
   ]
  },
  {
   "cell_type": "code",
   "execution_count": 20,
   "id": "23c7f63d-ca21-4b8f-bd8f-a4947dfd6b24",
   "metadata": {},
   "outputs": [
    {
     "name": "stdout",
     "output_type": "stream",
     "text": [
      "+---------+--------+--------------+-------+\n",
      "|AGE_GROUP|PERP_SEX|     PERP_RACE|perp_id|\n",
      "+---------+--------+--------------+-------+\n",
      "|    25-44|       M|WHITE HISPANIC|      0|\n",
      "|    25-44|       M|         BLACK|      1|\n",
      "|    25-44|       M|       UNKNOWN|      2|\n",
      "|    45-64|       M|         BLACK|      3|\n",
      "|    18-24|       M|         BLACK|      4|\n",
      "+---------+--------+--------------+-------+\n",
      "\n"
     ]
    }
   ],
   "source": [
    "df_perp_info = df.select(F.col(\"AGE_GROUP\"), F.col(\"PERP_SEX\"), F.col(\"PERP_RACE\")).distinct()\n",
    "df_perp_info = df_perp_info.withColumn(\"perp_id\", F.monotonically_increasing_id())\n",
    "df_perp_info.show()"
   ]
  },
  {
   "cell_type": "markdown",
   "id": "780320af-755f-4d8a-b557-f218a4d5541d",
   "metadata": {},
   "source": [
    "## Generate the big fact table"
   ]
  },
  {
   "cell_type": "code",
   "execution_count": 33,
   "id": "f481f44a-88b2-4bee-9855-8bbf8683d27b",
   "metadata": {},
   "outputs": [
    {
     "name": "stdout",
     "output_type": "stream",
     "text": [
      "+-----------+-----------------+-----+-----+------+-----------+------+------+-------+\n",
      "|ARREST_DATE|JURISDICTION_CODE|pd_id|ky_id|law_id|location_id|gps_id|map_id|perp_id|\n",
      "+-----------+-----------------+-----+-----+------+-----------+------+------+-------+\n",
      "| 11/22/2021|                0|    4|    6|     1|          1|     0|     0|      3|\n",
      "| 12/04/2021|                0|    6|    1|     2|          2|     9|     6|      0|\n",
      "| 11/09/2021|                0|    7|    2|     0|          3|     6|     5|      1|\n",
      "| 06/18/2007|                1|    8|    5|     4|          7|     1|     1|      4|\n",
      "| 01/26/2019|                0|    5|    4|     6|          5|     4|     3|      3|\n",
      "| 02/06/2019|                0|    1|    6|     3|          6|     7|     4|      2|\n",
      "| 12/03/2021|                0|    3|    6|     5|          4|     2|     7|      1|\n",
      "| 11/10/2021|               72|    2|    3|     9|          2|     3|     2|      0|\n",
      "| 12/28/2021|                0|    0|    0|     8|          3|     5|     8|      4|\n",
      "| 01/06/2016|                0|    6|    1|     7|          0|     8|     9|      1|\n",
      "+-----------+-----------------+-----+-----+------+-----------+------+------+-------+\n",
      "\n"
     ]
    }
   ],
   "source": [
    "df_arrests = df.select(F.col(\"ARREST_DATE\"), F.col(\"JURISDICTION_CODE\"), F.col(\"PD_CD\").alias(\"temp_pd_cd\"), F.col(\"PD_DESC\").alias(\"temp_pd_desc\"), F.col(\"KY_CD\").alias(\"ky_cd_temp\"),\n",
    "                       F.col(\"LAW_CODE\").alias(\"law_code_temp\"), F.col(\"LAW_CAT_CD\").alias(\"law_cat_cd_temp\"), F.col(\"ARREST_PRECINCT\").alias(\"arrest_precinct_temp\"), F.col(\"ARREST_BORO\").alias(\"arrest_boro_temp\"),\n",
    "                       F.col(\"Longitude\").alias(\"long_temp\"), F.col(\"Latitude\").alias(\"lat_temp\"),\n",
    "                       F.col(\"X_COORD_CD\").alias(\"x_temp\"), F.col(\"Y_COORD_CD\").alias(\"y_temp\"),\n",
    "                       F.col(\"AGE_GROUP\").alias(\"temp_age_group\"), F.col(\"PERP_SEX\").alias(\"temp_sex\"), F.col(\"PERP_RACE\").alias(\"temp_race\")\n",
    "                      )\n",
    "temp_cols = [\"temp_pd_cd\", \"temp_pd_desc\", \"ky_cd_temp\", \"law_code_temp\", \"law_cat_cd_temp\", \"arrest_precinct_temp\", \"arrest_boro_temp\", \"long_temp\", \"lat_temp\", \"x_temp\", \"y_temp\", \"temp_age_group\", \"temp_sex\", \"temp_race\"]\n",
    "\n",
    "temp_cols.remove(\"temp_pd_cd\")\n",
    "temp_cols.remove(\"temp_pd_desc\")\n",
    "df_arrests = df_arrests.join(df_pd, (df_arrests[\"temp_pd_cd\"] == df_pd[\"PD_CD\"]) & (df_arrests[\"temp_pd_desc\"] == df_pd[\"PD_DESC\"])).select(\"ARREST_DATE\", \"JURISDICTION_CODE\", \"pd_id\", *temp_cols)\n",
    "\n",
    "temp_cols.remove(\"ky_cd_temp\")\n",
    "df_arrests = df_arrests.join(df_ky, (df_arrests[\"ky_cd_temp\"] == df_ky[\"KY_CD\"])).select(\"ARREST_DATE\", \"JURISDICTION_CODE\", \"pd_id\", \"ky_id\", *temp_cols)\n",
    "\n",
    "temp_cols.remove(\"law_code_temp\")\n",
    "temp_cols.remove(\"law_cat_cd_temp\")\n",
    "df_arrests = df_arrests.join(df_law, ( (df_arrests[\"law_code_temp\"] == df_law[\"LAW_CODE\"]) & (df_arrests[\"law_cat_cd_temp\"] == df_law[\"category\"]))).select(\"ARREST_DATE\", \"JURISDICTION_CODE\", \"pd_id\", \"ky_id\", \"law_id\", *temp_cols)\n",
    "\n",
    "temp_cols.remove(\"arrest_precinct_temp\")\n",
    "temp_cols.remove(\"arrest_boro_temp\")\n",
    "df_arrests = df_arrests.join(df_location_info, ( (df_arrests[\"arrest_precinct_temp\"] == df_location_info[\"ARREST_PRECINCT\"] ) & (df_arrests[\"arrest_boro_temp\"] == df_location_info[\"ARREST_BORO\"]) ))\\\n",
    ".select(\"ARREST_DATE\", \"JURISDICTION_CODE\", \"pd_id\", \"ky_id\", \"law_id\", \"location_id\", *temp_cols)\n",
    "\n",
    "temp_cols.remove(\"long_temp\")\n",
    "temp_cols.remove(\"lat_temp\")\n",
    "df_arrests = df_arrests.join(df_gps, (df_arrests[\"long_temp\"] == df_gps[\"Longitude\"]) & (df_arrests[\"lat_temp\"] == df_gps[\"Latitude\"]))\\\n",
    ".select(\"ARREST_DATE\", \"JURISDICTION_CODE\", \"pd_id\", \"ky_id\", \"law_id\", \"location_id\", \"gps_id\", *temp_cols)\n",
    "\n",
    "temp_cols.remove(\"x_temp\")\n",
    "temp_cols.remove(\"y_temp\")\n",
    "df_arrests = df_arrests.join(df_map, (df_arrests[\"x_temp\"] == df_map[\"X_COORD_CD\"]) & (df_arrests[\"y_temp\"] == df_map[\"Y_COORD_CD\"]))\\\n",
    ".select(\"ARREST_DATE\", \"JURISDICTION_CODE\", \"pd_id\", \"ky_id\", \"law_id\", \"location_id\", \"gps_id\", \"map_id\", *temp_cols)\n",
    "\n",
    "temp_cols.remove(\"temp_age_group\")\n",
    "temp_cols.remove(\"temp_sex\")\n",
    "temp_cols.remove(\"temp_race\")\n",
    "df_arrests = df_arrests.join(df_perp_info, (df_arrests[\"temp_age_group\"] == df_perp_info[\"AGE_GROUP\"]) & (df_arrests[\"temp_sex\"] == df_perp_info[\"PERP_SEX\"]) & (df_arrests[\"temp_race\"] == df_perp_info[\"PERP_RACE\"]))\\\n",
    ".select(\"ARREST_DATE\", \"JURISDICTION_CODE\", \"pd_id\", \"ky_id\", \"law_id\", \"location_id\", \"gps_id\", \"map_id\", \"perp_id\")\n",
    "\n",
    "df_arrests.show()"
   ]
  },
  {
   "cell_type": "markdown",
   "id": "0c785a43-b7e7-4a6e-821e-97b786bb5f54",
   "metadata": {},
   "source": [
    "## Write the resulting dimension dataframes as tables to mysql first, and the fact table last"
   ]
  },
  {
   "cell_type": "code",
   "execution_count": 4,
   "id": "b6d5a058-d062-4a54-a15e-58c6093aab47",
   "metadata": {},
   "outputs": [],
   "source": [
    "df_pd.write.format(\"jdbc\").option(\"driver\",\"com.mysql.cj.jdbc.Driver\").option(\"url\", \"jdbc:mysql://localhost:3306/IBD\").option(\"dbtable\", \"PD\").option(\"user\", \"root\").option(\"password\", \"123\").mode(\"overwrite\").save()\n",
    "df_ky.write.format(\"jdbc\").option(\"driver\",\"com.mysql.cj.jdbc.Driver\").option(\"url\", \"jdbc:mysql://localhost:3306/IBD\").option(\"dbtable\", \"KY\").option(\"user\", \"root\").option(\"password\", \"123\").mode(\"overwrite\").save()\n",
    "df_law.write.format(\"jdbc\").option(\"driver\",\"com.mysql.cj.jdbc.Driver\").option(\"url\", \"jdbc:mysql://localhost:3306/IBD\").option(\"dbtable\", \"LAW\").option(\"user\", \"root\").option(\"password\", \"123\").mode(\"overwrite\").save()\n",
    "df_location_info.write.format(\"jdbc\").option(\"driver\",\"com.mysql.cj.jdbc.Driver\").option(\"url\", \"jdbc:mysql://localhost:3306/IBD\").option(\"dbtable\", \"LOCATION_INFO\").option(\"user\", \"root\").option(\"password\", \"123\").mode(\"overwrite\").save()\n",
    "df_gps.write.format(\"jdbc\").option(\"driver\",\"com.mysql.cj.jdbc.Driver\").option(\"url\", \"jdbc:mysql://localhost:3306/IBD\").option(\"dbtable\", \"GPS_COORDS\").option(\"user\", \"root\").option(\"password\", \"123\").mode(\"overwrite\").save()\n",
    "df_map.write.format(\"jdbc\").option(\"driver\",\"com.mysql.cj.jdbc.Driver\").option(\"url\", \"jdbc:mysql://localhost:3306/IBD\").option(\"dbtable\", \"MAP_COORDS\").option(\"user\", \"root\").option(\"password\", \"123\").mode(\"overwrite\").save()\n",
    "df_perp_info.write.format(\"jdbc\").option(\"driver\",\"com.mysql.cj.jdbc.Driver\").option(\"url\", \"jdbc:mysql://localhost:3306/IBD\").option(\"dbtable\", \"PERP_INFO\").option(\"user\", \"root\").option(\"password\", \"123\").mode(\"overwrite\").save()\n",
    "\n",
    "df_arrests.write.format(\"jdbc\").option(\"driver\",\"com.mysql.cj.jdbc.Driver\").option(\"url\", \"jdbc:mysql://localhost:3306/IBD\").option(\"dbtable\", \"ARRESTS\").option(\"user\", \"root\").option(\"password\", \"123\").mode(\"overwrite\").save()\n"
   ]
  }
 ],
 "metadata": {
  "kernelspec": {
   "display_name": "Python 3 (ipykernel)",
   "language": "python",
   "name": "python3"
  },
  "language_info": {
   "codemirror_mode": {
    "name": "ipython",
    "version": 3
   },
   "file_extension": ".py",
   "mimetype": "text/x-python",
   "name": "python",
   "nbconvert_exporter": "python",
   "pygments_lexer": "ipython3",
   "version": "3.11.6"
  }
 },
 "nbformat": 4,
 "nbformat_minor": 5
}
